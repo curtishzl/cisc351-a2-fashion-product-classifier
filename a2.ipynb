{
 "cells": [
  {
   "cell_type": "code",
   "execution_count": 14,
   "metadata": {},
   "outputs": [],
   "source": [
    "import pandas as pd\n",
    "import os\n",
    "import torch\n",
    "import torch.nn as nn\n",
    "import torch.nn.functional as F\n",
    "import torch.optim as optim\n",
    "from torch.utils.data import Dataset, DataLoader\n",
    "from torchvision import transforms\n",
    "from PIL import Image\n"
   ]
  },
  {
   "cell_type": "code",
   "execution_count": 15,
   "metadata": {},
   "outputs": [
    {
     "data": {
      "text/html": [
       "<div>\n",
       "<style scoped>\n",
       "    .dataframe tbody tr th:only-of-type {\n",
       "        vertical-align: middle;\n",
       "    }\n",
       "\n",
       "    .dataframe tbody tr th {\n",
       "        vertical-align: top;\n",
       "    }\n",
       "\n",
       "    .dataframe thead th {\n",
       "        text-align: right;\n",
       "    }\n",
       "</style>\n",
       "<table border=\"1\" class=\"dataframe\">\n",
       "  <thead>\n",
       "    <tr style=\"text-align: right;\">\n",
       "      <th></th>\n",
       "      <th>imageid</th>\n",
       "      <th>label</th>\n",
       "      <th>productname</th>\n",
       "    </tr>\n",
       "  </thead>\n",
       "  <tbody>\n",
       "    <tr>\n",
       "      <th>0</th>\n",
       "      <td>2653</td>\n",
       "      <td>Bags</td>\n",
       "      <td>Murcia Women Leather Office Grey Bag</td>\n",
       "    </tr>\n",
       "    <tr>\n",
       "      <th>1</th>\n",
       "      <td>55997</td>\n",
       "      <td>Others</td>\n",
       "      <td>Colorbar Velvet Matte Temptation Lipstick 24MA</td>\n",
       "    </tr>\n",
       "    <tr>\n",
       "      <th>2</th>\n",
       "      <td>2640</td>\n",
       "      <td>Shoes</td>\n",
       "      <td>Carlton London Men Brown Formal Shoes</td>\n",
       "    </tr>\n",
       "    <tr>\n",
       "      <th>3</th>\n",
       "      <td>40565</td>\n",
       "      <td>Topwear</td>\n",
       "      <td>W Women Maroon Kurta</td>\n",
       "    </tr>\n",
       "    <tr>\n",
       "      <th>4</th>\n",
       "      <td>38932</td>\n",
       "      <td>Bottomwear</td>\n",
       "      <td>Gini and Jony Girls Pink Leggings</td>\n",
       "    </tr>\n",
       "  </tbody>\n",
       "</table>\n",
       "</div>"
      ],
      "text/plain": [
       "   imageid       label                                     productname\n",
       "0     2653        Bags            Murcia Women Leather Office Grey Bag\n",
       "1    55997      Others  Colorbar Velvet Matte Temptation Lipstick 24MA\n",
       "2     2640       Shoes           Carlton London Men Brown Formal Shoes\n",
       "3    40565     Topwear                            W Women Maroon Kurta\n",
       "4    38932  Bottomwear               Gini and Jony Girls Pink Leggings"
      ]
     },
     "metadata": {},
     "output_type": "display_data"
    }
   ],
   "source": [
    "# Load and preview the dataset\n",
    "train_df = pd.read_csv('train.csv', sep='\\t')\n",
    "test_df = pd.read_csv('test.csv', sep='\\t')\n",
    "\n",
    "df = pd.concat([train_df, test_df], axis=0)\n",
    "# df.set_index('imageid', inplace=True)\n",
    "# df.sort_index(inplace=True)\n",
    "display(df.head())"
   ]
  },
  {
   "cell_type": "markdown",
   "metadata": {},
   "source": [
    "### Preprocessing"
   ]
  },
  {
   "cell_type": "code",
   "execution_count": 16,
   "metadata": {},
   "outputs": [
    {
     "name": "stdout",
     "output_type": "stream",
     "text": [
      "* FREQUENCY BY CATEGORY *\n",
      "label\n",
      "Topwear       15401\n",
      "Shoes          7344\n",
      "Others         6230\n",
      "Bags           3055\n",
      "Bottomwear     2693\n",
      "Watches        2542\n",
      "Innerwear      1808\n",
      "Jewellery      1080\n",
      "Eyewear        1073\n",
      "Fragrance      1012\n",
      "Sandal          963\n",
      "Wallets         933\n",
      "Makeup          307\n",
      "Name: count, dtype: int64\n"
     ]
    }
   ],
   "source": [
    "# Make sure these are the only categories that appear in the dataset\n",
    "labels = set({\"Topwear\", \"Bottomwear\", \"Innerwear\", \"Bags\", \"Watches\", \"Jewellery\", \"Eyewear\", \"Wallets\", \"Shoes\", \"Sandal\", \"Makeup\", \"Fragrance\", \"Others\"})\n",
    "unique_labels = df[\"label\"].unique()\n",
    "assert(labels == set(unique_labels))\n",
    "\n",
    "print(\"* FREQUENCY BY CATEGORY *\")\n",
    "print(df[\"label\"].value_counts(ascending=False))"
   ]
  },
  {
   "cell_type": "markdown",
   "metadata": {},
   "source": [
    "### Load the data"
   ]
  },
  {
   "cell_type": "code",
   "execution_count": 20,
   "metadata": {},
   "outputs": [],
   "source": [
    "class_labels = [\"Topwear\", \"Bottomwear\", \"Innerwear\", \"Bags\", \"Watches\", \"Jewellery\", \"Eyewear\", \"Wallets\", \"Shoes\", \"Sandal\", \"Makeup\", \"Fragrance\", \"Others\"]\n",
    "label_dict = {label: index for index, label in enumerate(class_labels)}\n",
    "\n",
    "class FashionDataset(Dataset):\n",
    "    def __init__(self, csv_file, images_dir, transform=None):\n",
    "        \"\"\"\n",
    "        Args:\n",
    "            csv_file (string): path to csv file with `imageid` (file name) and `label`.\n",
    "            images_dir (string): Directory with all the images.\n",
    "            transform (callable, optional): Optional transform to be applied on a sample.\n",
    "        \"\"\"\n",
    "        self.df = pd.read_csv(csv_file, sep='\\t')\n",
    "        self.df[\"label\"] = self.df[\"label\"].apply(lambda x: label_dict[x])  # convert the labels to numbers\n",
    "        self.images_dir = images_dir\n",
    "        self.transform = transform\n",
    "\n",
    "    def __len__(self):\n",
    "        return len(self.df)\n",
    "\n",
    "    def __getitem__(self, idx):\n",
    "        img_name = f\"{self.df.iloc[idx, 0]}.jpg\"\n",
    "        img_path = os.path.join(self.images_dir, img_name)\n",
    "        image = Image.open(img_path)\n",
    "        image = image.convert('RGB')  # some images are in grayscale\n",
    "        label = self.df.iloc[idx, 1]  # label is the second column\n",
    "\n",
    "        if self.transform:\n",
    "            image = self.transform(image)\n",
    "\n",
    "        return image, label\n",
    "\n"
   ]
  },
  {
   "cell_type": "code",
   "execution_count": 22,
   "metadata": {},
   "outputs": [],
   "source": [
    "\n",
    "def get_mean_std(loader: DataLoader):\n",
    "    \"\"\"\n",
    "    Compute the mean and standard deviation of the dataset for normalization.\n",
    "    Args:\n",
    "        loader (DataLoader): DataLoader with images to compute the mean and std of.\n",
    "    \"\"\"\n",
    "    mean = 0\n",
    "    std = 0\n",
    "    img_count = 0\n",
    "    for images, _ in loader:\n",
    "        images = images.view(images.size(0), images.size(1), -1)\n",
    "        mean += images.mean(2).sum(0)\n",
    "        std += images.std(2).sum(0)\n",
    "        img_count += images.size(0)\n",
    "    mean /= img_count\n",
    "    std /= img_count\n",
    "    return mean, std\n",
    "\n",
    "# Define the transformations for the initial loader to compute the mean and std\n",
    "transform = transforms.Compose([\n",
    "    transforms.Resize((72, 72)),\n",
    "    transforms.ToTensor(),\n",
    "])\n",
    "\n",
    "# Create a loader for computing the mean and std of the dataset, which we will use for normalization\n",
    "train_data = FashionDataset(\"train.csv\", \"images\", transform=transform)\n",
    "train_loader = DataLoader(train_data, batch_size=256, shuffle=True)\n",
    "mean, std = get_mean_std(train_loader)\n",
    "\n",
    "# Define the transformations for the actual train and test loaders\n",
    "transform = transforms.Compose([\n",
    "    transforms.Resize((72, 72)),\n",
    "    transforms.ToTensor(),\n",
    "    transforms.Normalize(mean, std)\n",
    "])\n",
    "\n",
    "# Create the datasets\n",
    "train_data = FashionDataset(\"train.csv\", \"images\", transform=transform)\n",
    "test_data = FashionDataset(\"test.csv\", \"images\", transform=transform)\n",
    "\n",
    "# Create the loaders\n",
    "train_loader = DataLoader(train_data, batch_size=256, shuffle=True)\n",
    "test_loader = DataLoader(test_data, batch_size=256, shuffle=True)"
   ]
  },
  {
   "cell_type": "markdown",
   "metadata": {},
   "source": [
    "### Build CNN"
   ]
  },
  {
   "cell_type": "code",
   "execution_count": 23,
   "metadata": {},
   "outputs": [],
   "source": [
    "# Build a CNN model to classify the images\n",
    "class FashionClassifierCNN(nn.Module):\n",
    "    def __init__(self):\n",
    "        super(FashionClassifierCNN, self).__init__()\n",
    "        # [(input - filter + 2*pad) / stride] + 1\n",
    "        # 72x72x3\n",
    "        self.conv1 = nn.Conv2d(in_channels=3, out_channels=16, kernel_size=5)  # Input channels, output channels, kernel size\n",
    "        # 68x68x16\n",
    "        self.pool = nn.MaxPool2d(2, 2)\n",
    "        # 34x34x16\n",
    "        self.conv2 = nn.Conv2d(in_channels=16, out_channels=32, kernel_size=5)\n",
    "        # 30x30x32\n",
    "        # apply max pooling again\n",
    "        # 15x15x32\n",
    "        self.fc1 = nn.Linear(in_features=15*15*32, out_features=120)\n",
    "        self.fc2 = nn.Linear(120, 84)\n",
    "        self.fc3 = nn.Linear(84, 13)\n",
    "\n",
    "    def forward(self, x):\n",
    "        x = self.pool(F.relu(self.conv1(x)))\n",
    "        x = self.pool(F.relu(self.conv2(x)))\n",
    "        x = torch.flatten(x, 1)  # Flatten all dimensions except the batch dimension\n",
    "        x = F.relu(self.fc1(x))\n",
    "        x = F.relu(self.fc2(x))\n",
    "        x = self.fc3(x)\n",
    "        return x\n",
    "\n",
    "model = FashionClassifierCNN()\n",
    "criterion = nn.CrossEntropyLoss()\n",
    "optimizer = optim.Adam(model.parameters(), lr=0.001)"
   ]
  },
  {
   "cell_type": "markdown",
   "metadata": {},
   "source": [
    "### Train CNN"
   ]
  },
  {
   "cell_type": "code",
   "execution_count": 26,
   "metadata": {},
   "outputs": [
    {
     "name": "stdout",
     "output_type": "stream",
     "text": [
      "[Epoch 1/1, batch 10/256] loss: 0.5257597744464875\n",
      "[Epoch 1/1, batch 20/256] loss: 0.45168560445308686\n",
      "[Epoch 1/1, batch 30/256] loss: 0.4407485663890839\n",
      "[Epoch 1/1, batch 40/256] loss: 0.4236262202262878\n",
      "[Epoch 1/1, batch 50/256] loss: 0.40106660723686216\n",
      "[Epoch 1/1, batch 60/256] loss: 0.36489559412002565\n",
      "[Epoch 1/1, batch 70/256] loss: 0.38363893926143644\n",
      "[Epoch 1/1, batch 80/256] loss: 0.3324947625398636\n",
      "[Epoch 1/1, batch 90/256] loss: 0.3327925235033035\n",
      "[Epoch 1/1, batch 100/256] loss: 0.3372656852006912\n",
      "[Epoch 1/1, batch 110/256] loss: 0.33717366605997084\n",
      "[Epoch 1/1, batch 120/256] loss: 0.3485038489103317\n",
      "[Epoch 1/1, batch 130/256] loss: 0.30032777786254883\n",
      "[Epoch 1/1, batch 140/256] loss: 0.30154896080493926\n",
      "[Epoch 1/1, batch 150/256] loss: 0.31287872046232224\n"
     ]
    }
   ],
   "source": [
    "epochs = 1\n",
    "for epoch in range(epochs):\n",
    "    total_loss = 0.0\n",
    "    # For each batch\n",
    "    for i, data in enumerate(train_loader):\n",
    "        inputs, labels = data\n",
    "        optimizer.zero_grad()  # Reset the gradients\n",
    "        outputs = model(inputs)\n",
    "        loss = criterion(outputs, labels)\n",
    "        loss.backward()\n",
    "        optimizer.step()\n",
    "        total_loss += loss.item()\n",
    "        if i % 10 == 9:\n",
    "            print(f\"[epoch {epoch + 1}/{epochs}, batch {i + 1}/{len(labels)}] loss: {total_loss / 10}\")\n",
    "            total_loss = 0.0"
   ]
  },
  {
   "cell_type": "markdown",
   "metadata": {},
   "source": [
    "### Test CNN"
   ]
  },
  {
   "cell_type": "code",
   "execution_count": null,
   "metadata": {},
   "outputs": [],
   "source": [
    "correct = 0\n",
    "total = 0\n",
    "\n",
    "with torch.no_grad():\n",
    "    # For each batch\n",
    "    for data in test_loader:\n",
    "        images, labels = data\n",
    "        outputs = model(images)\n",
    "        _, predicted = torch.max(outputs, 1)\n",
    "        total += labels.size(0)\n",
    "        correct += (predicted == labels).sum().item()\n",
    "\n",
    "print(f\"Accuracy of the network on the {total} test images: {100 * correct / total}%\")"
   ]
  },
  {
   "cell_type": "markdown",
   "metadata": {},
   "source": []
  }
 ],
 "metadata": {
  "kernelspec": {
   "display_name": "base",
   "language": "python",
   "name": "python3"
  },
  "language_info": {
   "codemirror_mode": {
    "name": "ipython",
    "version": 3
   },
   "file_extension": ".py",
   "mimetype": "text/x-python",
   "name": "python",
   "nbconvert_exporter": "python",
   "pygments_lexer": "ipython3",
   "version": "3.11.5"
  }
 },
 "nbformat": 4,
 "nbformat_minor": 2
}
